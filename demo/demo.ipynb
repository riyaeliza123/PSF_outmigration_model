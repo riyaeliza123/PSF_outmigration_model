{
 "cells": [
  {
   "cell_type": "markdown",
   "metadata": {},
   "source": [
    "This notebook is a demo of using the functions defined in `scripts.outMigration_preprocessing` and `scripts.outMigration_prediction` to make prediction on the outmigration of 2023. "
   ]
  },
  {
   "cell_type": "markdown",
   "metadata": {},
   "source": [
    "First, import `pandas` to read data from the data folder, also functions `preprocess_sql`, `preprocessing`, and `prediction` from scripts folder. "
   ]
  },
  {
   "cell_type": "code",
   "execution_count": 23,
   "metadata": {},
   "outputs": [],
   "source": [
    "import pandas as pd\n",
    "from scripts.outMigration_preprocessing import preprocess_sql, preprocessing\n",
    "from scripts.outMigration_prediction import prediction"
   ]
  },
  {
   "cell_type": "markdown",
   "metadata": {},
   "source": [
    "Then define the paths and read in data. "
   ]
  },
  {
   "cell_type": "code",
   "execution_count": 31,
   "metadata": {},
   "outputs": [],
   "source": [
    "cowichan_path = \"../data/raw/cowichan_historic.csv\"\n",
    "salmon_path = \"../data/raw/data_salmon2.csv\"\n",
    "temp_path = \"../data/raw/northcochiwan_daily_temp.csv\"\n",
    "flow_path = \"../data/raw/flow_2023.csv\"\n",
    "level_path = \"../data/raw/level_2023.csv\"\n",
    "\n",
    "cowichan = pd.read_csv(cowichan_path)\n",
    "salmon = pd.read_csv(salmon_path)\n",
    "temp = pd.read_csv(temp_path)\n",
    "level = pd.read_csv(level_path)\n",
    "flow = pd.read_csv(flow_path)"
   ]
  },
  {
   "cell_type": "markdown",
   "metadata": {},
   "source": [
    "Use the `preprocessed_sql` function to concat the salmon data from 2014 to 2020 that is stored in `data/raw/cowichan_historic.csv` and the salmon data from 2021 to 2023, which is stored in `data/raw/data_salmon2.csv` into one file. "
   ]
  },
  {
   "cell_type": "code",
   "execution_count": 33,
   "metadata": {},
   "outputs": [],
   "source": [
    "preprocessed_sql = preprocess_sql(salmon, cowichan)"
   ]
  },
  {
   "cell_type": "markdown",
   "metadata": {},
   "source": [
    "After concating the salmon data, use the `preprocessing` function to merge the `preprocessed_sql` file with the temperature, flow, and level data. The function also prepare the data into a useable format for modeling. "
   ]
  },
  {
   "cell_type": "code",
   "execution_count": 34,
   "metadata": {},
   "outputs": [
    {
     "data": {
      "text/html": [
       "<div>\n",
       "<style scoped>\n",
       "    .dataframe tbody tr th:only-of-type {\n",
       "        vertical-align: middle;\n",
       "    }\n",
       "\n",
       "    .dataframe tbody tr th {\n",
       "        vertical-align: top;\n",
       "    }\n",
       "\n",
       "    .dataframe thead th {\n",
       "        text-align: right;\n",
       "    }\n",
       "</style>\n",
       "<table border=\"1\" class=\"dataframe\">\n",
       "  <thead>\n",
       "    <tr style=\"text-align: right;\">\n",
       "      <th></th>\n",
       "      <th>date</th>\n",
       "      <th>month</th>\n",
       "      <th>year</th>\n",
       "      <th>Temp</th>\n",
       "      <th>Flow</th>\n",
       "      <th>Level</th>\n",
       "      <th>count</th>\n",
       "      <th>october_Flow</th>\n",
       "      <th>november_Flow</th>\n",
       "      <th>december_Temp</th>\n",
       "      <th>...</th>\n",
       "      <th>rolling_Flow_mean_5</th>\n",
       "      <th>rolling_Flow_std_15</th>\n",
       "      <th>rolling_Flow_std_10</th>\n",
       "      <th>rolling_Flow_std_5</th>\n",
       "      <th>rolling_Level_mean_15</th>\n",
       "      <th>rolling_Level_mean_10</th>\n",
       "      <th>rolling_Level_mean_5</th>\n",
       "      <th>rolling_Level_std_15</th>\n",
       "      <th>rolling_Level_std_10</th>\n",
       "      <th>rolling_Level_std_5</th>\n",
       "    </tr>\n",
       "  </thead>\n",
       "  <tbody>\n",
       "    <tr>\n",
       "      <th>0</th>\n",
       "      <td>2013-09-02</td>\n",
       "      <td>9</td>\n",
       "      <td>2013</td>\n",
       "      <td>19.127273</td>\n",
       "      <td>0.8755</td>\n",
       "      <td>0.5480</td>\n",
       "      <td>0.0</td>\n",
       "      <td>7.679129</td>\n",
       "      <td>28.3825</td>\n",
       "      <td>3.965188</td>\n",
       "      <td>...</td>\n",
       "      <td>6.2720</td>\n",
       "      <td>2.078102</td>\n",
       "      <td>1.445607</td>\n",
       "      <td>0.760411</td>\n",
       "      <td>0.853367</td>\n",
       "      <td>0.8454</td>\n",
       "      <td>0.8273</td>\n",
       "      <td>0.061726</td>\n",
       "      <td>0.043477</td>\n",
       "      <td>0.025122</td>\n",
       "    </tr>\n",
       "    <tr>\n",
       "      <th>1</th>\n",
       "      <td>2013-09-03</td>\n",
       "      <td>9</td>\n",
       "      <td>2013</td>\n",
       "      <td>18.045833</td>\n",
       "      <td>0.7905</td>\n",
       "      <td>0.5405</td>\n",
       "      <td>0.0</td>\n",
       "      <td>7.679129</td>\n",
       "      <td>28.3825</td>\n",
       "      <td>3.965188</td>\n",
       "      <td>...</td>\n",
       "      <td>6.2720</td>\n",
       "      <td>2.078102</td>\n",
       "      <td>1.445607</td>\n",
       "      <td>0.760411</td>\n",
       "      <td>0.853367</td>\n",
       "      <td>0.8454</td>\n",
       "      <td>0.8273</td>\n",
       "      <td>0.061726</td>\n",
       "      <td>0.043477</td>\n",
       "      <td>0.025122</td>\n",
       "    </tr>\n",
       "    <tr>\n",
       "      <th>2</th>\n",
       "      <td>2013-09-04</td>\n",
       "      <td>9</td>\n",
       "      <td>2013</td>\n",
       "      <td>17.062500</td>\n",
       "      <td>0.7490</td>\n",
       "      <td>0.5365</td>\n",
       "      <td>0.0</td>\n",
       "      <td>7.679129</td>\n",
       "      <td>28.3825</td>\n",
       "      <td>3.965188</td>\n",
       "      <td>...</td>\n",
       "      <td>6.2720</td>\n",
       "      <td>2.078102</td>\n",
       "      <td>1.445607</td>\n",
       "      <td>0.760411</td>\n",
       "      <td>0.853367</td>\n",
       "      <td>0.8454</td>\n",
       "      <td>0.8273</td>\n",
       "      <td>0.061726</td>\n",
       "      <td>0.043477</td>\n",
       "      <td>0.025122</td>\n",
       "    </tr>\n",
       "    <tr>\n",
       "      <th>3</th>\n",
       "      <td>2013-09-05</td>\n",
       "      <td>9</td>\n",
       "      <td>2013</td>\n",
       "      <td>16.837500</td>\n",
       "      <td>0.6945</td>\n",
       "      <td>0.5300</td>\n",
       "      <td>0.0</td>\n",
       "      <td>7.679129</td>\n",
       "      <td>28.3825</td>\n",
       "      <td>3.965188</td>\n",
       "      <td>...</td>\n",
       "      <td>6.2720</td>\n",
       "      <td>2.078102</td>\n",
       "      <td>1.445607</td>\n",
       "      <td>0.760411</td>\n",
       "      <td>0.853367</td>\n",
       "      <td>0.8454</td>\n",
       "      <td>0.8273</td>\n",
       "      <td>0.061726</td>\n",
       "      <td>0.043477</td>\n",
       "      <td>0.025122</td>\n",
       "    </tr>\n",
       "    <tr>\n",
       "      <th>4</th>\n",
       "      <td>2013-09-06</td>\n",
       "      <td>9</td>\n",
       "      <td>2013</td>\n",
       "      <td>16.954167</td>\n",
       "      <td>0.6680</td>\n",
       "      <td>0.5280</td>\n",
       "      <td>0.0</td>\n",
       "      <td>7.679129</td>\n",
       "      <td>28.3825</td>\n",
       "      <td>3.965188</td>\n",
       "      <td>...</td>\n",
       "      <td>0.7555</td>\n",
       "      <td>2.078102</td>\n",
       "      <td>1.445607</td>\n",
       "      <td>0.082226</td>\n",
       "      <td>0.853367</td>\n",
       "      <td>0.8454</td>\n",
       "      <td>0.5366</td>\n",
       "      <td>0.061726</td>\n",
       "      <td>0.043477</td>\n",
       "      <td>0.008104</td>\n",
       "    </tr>\n",
       "  </tbody>\n",
       "</table>\n",
       "<p>5 rows × 32 columns</p>\n",
       "</div>"
      ],
      "text/plain": [
       "        date  month  year       Temp    Flow   Level  count  october_Flow  \\\n",
       "0 2013-09-02      9  2013  19.127273  0.8755  0.5480    0.0      7.679129   \n",
       "1 2013-09-03      9  2013  18.045833  0.7905  0.5405    0.0      7.679129   \n",
       "2 2013-09-04      9  2013  17.062500  0.7490  0.5365    0.0      7.679129   \n",
       "3 2013-09-05      9  2013  16.837500  0.6945  0.5300    0.0      7.679129   \n",
       "4 2013-09-06      9  2013  16.954167  0.6680  0.5280    0.0      7.679129   \n",
       "\n",
       "   november_Flow  december_Temp  ...  rolling_Flow_mean_5  \\\n",
       "0        28.3825       3.965188  ...               6.2720   \n",
       "1        28.3825       3.965188  ...               6.2720   \n",
       "2        28.3825       3.965188  ...               6.2720   \n",
       "3        28.3825       3.965188  ...               6.2720   \n",
       "4        28.3825       3.965188  ...               0.7555   \n",
       "\n",
       "   rolling_Flow_std_15  rolling_Flow_std_10  rolling_Flow_std_5  \\\n",
       "0             2.078102             1.445607            0.760411   \n",
       "1             2.078102             1.445607            0.760411   \n",
       "2             2.078102             1.445607            0.760411   \n",
       "3             2.078102             1.445607            0.760411   \n",
       "4             2.078102             1.445607            0.082226   \n",
       "\n",
       "   rolling_Level_mean_15  rolling_Level_mean_10  rolling_Level_mean_5  \\\n",
       "0               0.853367                 0.8454                0.8273   \n",
       "1               0.853367                 0.8454                0.8273   \n",
       "2               0.853367                 0.8454                0.8273   \n",
       "3               0.853367                 0.8454                0.8273   \n",
       "4               0.853367                 0.8454                0.5366   \n",
       "\n",
       "   rolling_Level_std_15  rolling_Level_std_10  rolling_Level_std_5  \n",
       "0              0.061726              0.043477             0.025122  \n",
       "1              0.061726              0.043477             0.025122  \n",
       "2              0.061726              0.043477             0.025122  \n",
       "3              0.061726              0.043477             0.025122  \n",
       "4              0.061726              0.043477             0.008104  \n",
       "\n",
       "[5 rows x 32 columns]"
      ]
     },
     "execution_count": 34,
     "metadata": {},
     "output_type": "execute_result"
    }
   ],
   "source": [
    "preprocessed_df = preprocessing(\"ck\", preprocessed_sql, temp, level, flow)\n",
    "preprocessed_df.to_csv(\"../data/preprocessed/demo_staging_df.csv\", index=False)\n",
    "preprocessed_df.head()"
   ]
  },
  {
   "cell_type": "markdown",
   "metadata": {},
   "source": [
    "Define the path and read in the preprocessed data. "
   ]
  },
  {
   "cell_type": "code",
   "execution_count": 29,
   "metadata": {},
   "outputs": [],
   "source": [
    "preprocessed_path = \"../data/preprocessed/demo_staging_df.csv\"\n",
    "preprocessed = pd.read_csv(preprocessed_path)"
   ]
  },
  {
   "cell_type": "markdown",
   "metadata": {},
   "source": [
    "Then run the `prediction` function to make the prediction on the year 2023. The output shows a graph indicating the prediction of count and a string of dates of the prediction on the first 5% to 10% of the outmigration. "
   ]
  },
  {
   "cell_type": "code",
   "execution_count": 35,
   "metadata": {},
   "outputs": [
    {
     "data": {
      "image/png": "[encoded data removed]",
      "text/plain": [
       "<Figure size 1000x600 with 1 Axes>"
      ]
     },
     "metadata": {},
     "output_type": "display_data"
    },
    {
     "name": "stdout",
     "output_type": "stream",
     "text": [
      "5% to 10% of salmon are predicted to be tagged between: 2023-04-22 to 2023-05-05.\n"
     ]
    }
   ],
   "source": [
    "prediction = prediction(preprocessed, 2023, 5, 10, True) # True means print picture \n",
    "prediction"
   ]
  }
 ],
 "metadata": {
  "kernelspec": {
   "display_name": "mds574",
   "language": "python",
   "name": "python3"
  },
  "language_info": {
   "codemirror_mode": {
    "name": "ipython",
    "version": 3
   },
   "file_extension": ".py",
   "mimetype": "text/x-python",
   "name": "python",
   "nbconvert_exporter": "python",
   "pygments_lexer": "ipython3",
   "version": "3.12.3"
  }
 },
 "nbformat": 4,
 "nbformat_minor": 2
}
